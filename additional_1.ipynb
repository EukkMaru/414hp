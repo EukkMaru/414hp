{
 "cells": [
  {
   "cell_type": "markdown",
   "metadata": {},
   "source": [
    "Attack for protocol 2"
   ]
  },
  {
   "cell_type": "code",
   "execution_count": 1,
   "metadata": {},
   "outputs": [],
   "source": [
    "import _utils.math_utils as math\n",
    "from Crypto.Cipher import AES\n",
    "from Crypto.Util.Padding import unpad\n",
    "import base64\n",
    "import json"
   ]
  },
  {
   "cell_type": "code",
   "execution_count": 2,
   "metadata": {},
   "outputs": [],
   "source": [
    "path = \"./additional_logs/prtcl2.log\""
   ]
  },
  {
   "cell_type": "code",
   "execution_count": 3,
   "metadata": {},
   "outputs": [
    {
     "data": {
      "text/plain": [
       "(41669,\n",
       " 194477,\n",
       " [79145,\n",
       "  119027,\n",
       "  1981,\n",
       "  90654,\n",
       "  133728,\n",
       "  170717,\n",
       "  9040,\n",
       "  7654,\n",
       "  175504,\n",
       "  61889,\n",
       "  99610,\n",
       "  161410,\n",
       "  62799,\n",
       "  12557,\n",
       "  170726,\n",
       "  117589,\n",
       "  52317,\n",
       "  116597,\n",
       "  61889,\n",
       "  107515,\n",
       "  99468,\n",
       "  168759,\n",
       "  159597,\n",
       "  177359,\n",
       "  144894,\n",
       "  91329,\n",
       "  173097,\n",
       "  97103,\n",
       "  110315,\n",
       "  68256,\n",
       "  180874,\n",
       "  140635],\n",
       " 'F1PwMZ387D31dJ0fyCmZBA==')"
      ]
     },
     "execution_count": 3,
     "metadata": {},
     "output_type": "execute_result"
    }
   ],
   "source": [
    "with open(path, 'r') as file:\n",
    "    logs = file.readlines()\n",
    "\n",
    "data = [json.loads(line) for line in logs]\n",
    "\n",
    "e = data[1][\"public\"]  \n",
    "n = data[1][\"parameter\"][\"n\"]  \n",
    "encrypted_key = data[2][\"encrypted_key\"]  \n",
    "encrypted_message_b64 = data[3][\"encryption\"]  \n",
    "\n",
    "e, n, encrypted_key, encrypted_message_b64\n"
   ]
  },
  {
   "cell_type": "code",
   "execution_count": 4,
   "metadata": {},
   "outputs": [
    {
     "name": "stdout",
     "output_type": "stream",
     "text": [
      "p = 439, q = 443\n"
     ]
    }
   ],
   "source": [
    "p, q = None, None\n",
    "\n",
    "for i in range(2, int(n**0.5) + 1):\n",
    "    if n % i == 0:\n",
    "        p, q = i, n // i\n",
    "        \n",
    "        if math.is_prime(p) and math.is_prime(q):\n",
    "            break\n",
    "\n",
    "print(f\"p = {p}, q = {q}\")\n"
   ]
  },
  {
   "cell_type": "code",
   "execution_count": 5,
   "metadata": {},
   "outputs": [
    {
     "data": {
      "text/plain": [
       "152669"
      ]
     },
     "execution_count": 5,
     "metadata": {},
     "output_type": "execute_result"
    }
   ],
   "source": [
    "phi = (p - 1) * (q - 1)\n",
    "\n",
    "m0, x0, x1 = phi, 0, 1\n",
    "a = e\n",
    "while a > 1:\n",
    "    q = a // m0\n",
    "    m0, a = a % m0, m0\n",
    "    x0, x1 = x1 - q * x0, x0\n",
    "\n",
    "d = x1 + phi if x1 < 0 else x1\n",
    "\n",
    "d"
   ]
  },
  {
   "cell_type": "code",
   "execution_count": 6,
   "metadata": {},
   "outputs": [
    {
     "data": {
      "text/plain": [
       "'7046a907761cfce17db9266166c9846c814fb9ae98dd42b315a3720c6eb097ca'"
      ]
     },
     "execution_count": 6,
     "metadata": {},
     "output_type": "execute_result"
    }
   ],
   "source": [
    "aes_key_bytes = b''.join(bytes([pow(byte, d, n)]) for byte in encrypted_key)\n",
    "\n",
    "aes_key_bytes.hex()"
   ]
  },
  {
   "cell_type": "code",
   "execution_count": 7,
   "metadata": {},
   "outputs": [
    {
     "name": "stdout",
     "output_type": "stream",
     "text": [
      "Decrypted Message: mathematics\n"
     ]
    }
   ],
   "source": [
    "ciphertext = base64.b64decode(encrypted_message_b64)\n",
    "cipher = AES.new(aes_key_bytes, AES.MODE_ECB)\n",
    "decrypted_message = unpad(cipher.decrypt(ciphertext), AES.block_size)\n",
    "print(\"Decrypted Message:\", decrypted_message.decode('ascii'))"
   ]
  }
 ],
 "metadata": {
  "kernelspec": {
   "display_name": "Python 3",
   "language": "python",
   "name": "python3"
  },
  "language_info": {
   "codemirror_mode": {
    "name": "ipython",
    "version": 3
   },
   "file_extension": ".py",
   "mimetype": "text/x-python",
   "name": "python",
   "nbconvert_exporter": "python",
   "pygments_lexer": "ipython3",
   "version": "3.10.11"
  }
 },
 "nbformat": 4,
 "nbformat_minor": 2
}
