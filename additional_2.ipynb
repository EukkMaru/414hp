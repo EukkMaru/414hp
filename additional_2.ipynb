{
 "cells": [
  {
   "cell_type": "markdown",
   "metadata": {},
   "source": [
    "Attack for protocol 2"
   ]
  },
  {
   "cell_type": "code",
   "execution_count": 2,
   "metadata": {},
   "outputs": [],
   "source": [
    "import _utils.math_utils as math\n",
    "from Crypto.Cipher import AES\n",
    "from Crypto.Util.Padding import unpad\n",
    "import base64\n",
    "import json\n",
    "from functools import reduce"
   ]
  },
  {
   "cell_type": "code",
   "execution_count": 3,
   "metadata": {},
   "outputs": [],
   "source": [
    "path = \"./additional_logs/prtcl3.log\""
   ]
  },
  {
   "cell_type": "code",
   "execution_count": 4,
   "metadata": {},
   "outputs": [
    {
     "data": {
      "text/plain": [
       "(401, 347, 285, 229)"
      ]
     },
     "execution_count": 4,
     "metadata": {},
     "output_type": "execute_result"
    }
   ],
   "source": [
    "with open(path, 'r') as file:\n",
    "    logs = file.readlines()\n",
    "\n",
    "data = [json.loads(line) for line in logs]\n",
    "\n",
    "p = data[1]['parameter']['p']\n",
    "g = data[1]['parameter']['g']\n",
    "g_a_modp = data[1]['public']\n",
    "g_b_modp = data[2]['public']\n",
    "encrypted_message_1 = data[3]['encryption']\n",
    "encrypted_message_2 = data[4]['encryption']\n",
    "\n",
    "p, g, g_a_modp, g_b_modp"
   ]
  },
  {
   "cell_type": "code",
   "execution_count": 5,
   "metadata": {},
   "outputs": [
    {
     "data": {
      "text/plain": [
       "(228, 322)"
      ]
     },
     "execution_count": 5,
     "metadata": {},
     "output_type": "execute_result"
    }
   ],
   "source": [
    "a, b = None, None\n",
    "\n",
    "for x in range(1, p):\n",
    "    if pow(g, x, p) == g_a_modp:\n",
    "        a = x\n",
    "        break\n",
    "    \n",
    "for y in range(1, p):\n",
    "    if pow(g, y, p) == g_b_modp:\n",
    "        b = y\n",
    "        break\n",
    "\n",
    "a, b"
   ]
  },
  {
   "cell_type": "code",
   "execution_count": 6,
   "metadata": {},
   "outputs": [
    {
     "data": {
      "text/plain": [
       "'0152015201520152015201520152015201520152015201520152015201520152'"
      ]
     },
     "execution_count": 6,
     "metadata": {},
     "output_type": "execute_result"
    }
   ],
   "source": [
    "key = pow(g, a*b, p)\n",
    "\n",
    "bytekey = int.to_bytes(key, 2, 'big')\n",
    "\n",
    "aes_key = reduce(lambda x, y: x + y, [bytekey] * 16)\n",
    "aes_key.hex()"
   ]
  },
  {
   "cell_type": "code",
   "execution_count": 7,
   "metadata": {},
   "outputs": [
    {
     "name": "stdout",
     "output_type": "stream",
     "text": [
      "Message 1: Your Life! \n",
      "Message 2: Enjoy\n"
     ]
    }
   ],
   "source": [
    "ciphertext1 = base64.b64decode(encrypted_message_1)\n",
    "ciphertext2 = base64.b64decode(encrypted_message_2)\n",
    "cipher = AES.new(aes_key, AES.MODE_ECB)\n",
    "decrypted_message_1 = unpad(cipher.decrypt(ciphertext1), AES.block_size)\n",
    "decrypted_message_2 = unpad(cipher.decrypt(ciphertext2), AES.block_size)\n",
    "print(\"Message 1:\", decrypted_message_2.decode('ascii'), \"\\nMessage 2:\", decrypted_message_1.decode('ascii'))"
   ]
  }
 ],
 "metadata": {
  "kernelspec": {
   "display_name": "Python 3",
   "language": "python",
   "name": "python3"
  },
  "language_info": {
   "codemirror_mode": {
    "name": "ipython",
    "version": 3
   },
   "file_extension": ".py",
   "mimetype": "text/x-python",
   "name": "python",
   "nbconvert_exporter": "python",
   "pygments_lexer": "ipython3",
   "version": "3.10.11"
  }
 },
 "nbformat": 4,
 "nbformat_minor": 2
}
